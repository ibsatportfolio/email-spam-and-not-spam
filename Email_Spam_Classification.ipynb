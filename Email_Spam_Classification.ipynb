{
  "nbformat": 4,
  "nbformat_minor": 0,
  "metadata": {
    "colab": {
      "provenance": [],
      "authorship_tag": "ABX9TyPq7J6AC7M6RwnfeDTieFwx",
      "include_colab_link": true
    },
    "kernelspec": {
      "name": "python3",
      "display_name": "Python 3"
    },
    "language_info": {
      "name": "python"
    }
  },
  "cells": [
    {
      "cell_type": "markdown",
      "metadata": {
        "id": "view-in-github",
        "colab_type": "text"
      },
      "source": [
        "<a href=\"https://colab.research.google.com/github/ibsatportfolio/email-spam-and-not-spam/blob/main/Email_Spam_Classification.ipynb\" target=\"_parent\"><img src=\"https://colab.research.google.com/assets/colab-badge.svg\" alt=\"Open In Colab\"/></a>"
      ]
    },
    {
      "cell_type": "markdown",
      "source": [
        "# **📧Email Spam and Not Spam Classifier**\n",
        "### Problem Defination\n",
        "Spam email is unsolicited and unwanted junk email sent out in bulk to an indiscriminate recipient list. Typically, spam is sent for commercial purposes. It can be sent in massive volume by botnets, networks of infected computers. So create a classifier that identify the spam and not spam emails.\n",
        "\n",
        "### Dataset\n",
        "Use the Email Spam Dataset from kaggle which contain 10000 rows and 4 columns.\n",
        "https://www.kaggle.com/datasets/nitishabharathi/email-spam-dataset?select=enronSpamSubset.csv\n"
      ],
      "metadata": {
        "id": "vx7CTW5ietoK"
      }
    },
    {
      "cell_type": "markdown",
      "source": [
        "## **1. Import dependencies(Preparing tools)**\n",
        "Import pandas, Matplotlib and NumPy for data analysis and manipulation."
      ],
      "metadata": {
        "id": "hC8VLXL8y5J9"
      }
    },
    {
      "cell_type": "code",
      "source": [
        "# Regular EDA and plotting libraries\n",
        "import numpy as np\n",
        "import pandas as pd\n",
        "import matplotlib.pyplot as plt\n",
        "# plots to appear in the notebook\n",
        "%matplotlib inline\n",
        "import pickle\n",
        "\n",
        "# To extract the features in text data\n",
        "import string\n",
        "import nltk\n",
        "from sklearn.feature_extraction.text import CountVectorizer\n",
        "from nltk.corpus import stopwords\n",
        "\n",
        "# Import Models\n",
        "from sklearn.naive_bayes import MultinomialNB\n",
        "from sklearn.linear_model import LogisticRegression\n",
        "from sklearn.ensemble import RandomForestClassifier\n",
        "from sklearn.svm import SVC\n",
        "\n",
        "## Import Model evaluators\n",
        "from sklearn.model_selection import train_test_split\n",
        "from sklearn.model_selection import RandomizedSearchCV, GridSearchCV\n",
        "from sklearn.metrics import confusion_matrix, classification_report\n",
        "from sklearn.metrics import plot_roc_curve"
      ],
      "metadata": {
        "id": "v4wBPp6RyyE4"
      },
      "execution_count": null,
      "outputs": []
    },
    {
      "cell_type": "markdown",
      "source": [
        "## **2. Load the data**"
      ],
      "metadata": {
        "id": "rqEH-_gJ5tgt"
      }
    },
    {
      "cell_type": "code",
      "source": [
        "data = pd.read_csv('email_spam-not_spam.csv')\n",
        "data.head()"
      ],
      "metadata": {
        "colab": {
          "base_uri": "https://localhost:8080/",
          "height": 206
        },
        "id": "cJS8WEuw5qBO",
        "outputId": "75a2c6e2-58fd-45de-9665-8f8cfd3300e4"
      },
      "execution_count": null,
      "outputs": [
        {
          "output_type": "execute_result",
          "data": {
            "text/plain": [
              "   Unnamed: 0  Unnamed: 0.1  \\\n",
              "0        2469          2469   \n",
              "1        5063          5063   \n",
              "2       12564         12564   \n",
              "3        2796          2796   \n",
              "4        1468          1468   \n",
              "\n",
              "                                                Body  Label  \n",
              "0  Subject: stock promo mover : cwtd\\n * * * urge...      1  \n",
              "1  Subject: are you listed in major search engine...      1  \n",
              "2  Subject: important information thu , 30 jun 20...      1  \n",
              "3  Subject: = ? utf - 8 ? q ? bask your life with...      1  \n",
              "4  Subject: \" bidstogo \" is places to go , things...      1  "
            ],
            "text/html": [
              "\n",
              "  <div id=\"df-69c1a931-c2d8-4749-9ebc-6dca23cecb1d\">\n",
              "    <div class=\"colab-df-container\">\n",
              "      <div>\n",
              "<style scoped>\n",
              "    .dataframe tbody tr th:only-of-type {\n",
              "        vertical-align: middle;\n",
              "    }\n",
              "\n",
              "    .dataframe tbody tr th {\n",
              "        vertical-align: top;\n",
              "    }\n",
              "\n",
              "    .dataframe thead th {\n",
              "        text-align: right;\n",
              "    }\n",
              "</style>\n",
              "<table border=\"1\" class=\"dataframe\">\n",
              "  <thead>\n",
              "    <tr style=\"text-align: right;\">\n",
              "      <th></th>\n",
              "      <th>Unnamed: 0</th>\n",
              "      <th>Unnamed: 0.1</th>\n",
              "      <th>Body</th>\n",
              "      <th>Label</th>\n",
              "    </tr>\n",
              "  </thead>\n",
              "  <tbody>\n",
              "    <tr>\n",
              "      <th>0</th>\n",
              "      <td>2469</td>\n",
              "      <td>2469</td>\n",
              "      <td>Subject: stock promo mover : cwtd\\n * * * urge...</td>\n",
              "      <td>1</td>\n",
              "    </tr>\n",
              "    <tr>\n",
              "      <th>1</th>\n",
              "      <td>5063</td>\n",
              "      <td>5063</td>\n",
              "      <td>Subject: are you listed in major search engine...</td>\n",
              "      <td>1</td>\n",
              "    </tr>\n",
              "    <tr>\n",
              "      <th>2</th>\n",
              "      <td>12564</td>\n",
              "      <td>12564</td>\n",
              "      <td>Subject: important information thu , 30 jun 20...</td>\n",
              "      <td>1</td>\n",
              "    </tr>\n",
              "    <tr>\n",
              "      <th>3</th>\n",
              "      <td>2796</td>\n",
              "      <td>2796</td>\n",
              "      <td>Subject: = ? utf - 8 ? q ? bask your life with...</td>\n",
              "      <td>1</td>\n",
              "    </tr>\n",
              "    <tr>\n",
              "      <th>4</th>\n",
              "      <td>1468</td>\n",
              "      <td>1468</td>\n",
              "      <td>Subject: \" bidstogo \" is places to go , things...</td>\n",
              "      <td>1</td>\n",
              "    </tr>\n",
              "  </tbody>\n",
              "</table>\n",
              "</div>\n",
              "      <button class=\"colab-df-convert\" onclick=\"convertToInteractive('df-69c1a931-c2d8-4749-9ebc-6dca23cecb1d')\"\n",
              "              title=\"Convert this dataframe to an interactive table.\"\n",
              "              style=\"display:none;\">\n",
              "        \n",
              "  <svg xmlns=\"http://www.w3.org/2000/svg\" height=\"24px\"viewBox=\"0 0 24 24\"\n",
              "       width=\"24px\">\n",
              "    <path d=\"M0 0h24v24H0V0z\" fill=\"none\"/>\n",
              "    <path d=\"M18.56 5.44l.94 2.06.94-2.06 2.06-.94-2.06-.94-.94-2.06-.94 2.06-2.06.94zm-11 1L8.5 8.5l.94-2.06 2.06-.94-2.06-.94L8.5 2.5l-.94 2.06-2.06.94zm10 10l.94 2.06.94-2.06 2.06-.94-2.06-.94-.94-2.06-.94 2.06-2.06.94z\"/><path d=\"M17.41 7.96l-1.37-1.37c-.4-.4-.92-.59-1.43-.59-.52 0-1.04.2-1.43.59L10.3 9.45l-7.72 7.72c-.78.78-.78 2.05 0 2.83L4 21.41c.39.39.9.59 1.41.59.51 0 1.02-.2 1.41-.59l7.78-7.78 2.81-2.81c.8-.78.8-2.07 0-2.86zM5.41 20L4 18.59l7.72-7.72 1.47 1.35L5.41 20z\"/>\n",
              "  </svg>\n",
              "      </button>\n",
              "      \n",
              "  <style>\n",
              "    .colab-df-container {\n",
              "      display:flex;\n",
              "      flex-wrap:wrap;\n",
              "      gap: 12px;\n",
              "    }\n",
              "\n",
              "    .colab-df-convert {\n",
              "      background-color: #E8F0FE;\n",
              "      border: none;\n",
              "      border-radius: 50%;\n",
              "      cursor: pointer;\n",
              "      display: none;\n",
              "      fill: #1967D2;\n",
              "      height: 32px;\n",
              "      padding: 0 0 0 0;\n",
              "      width: 32px;\n",
              "    }\n",
              "\n",
              "    .colab-df-convert:hover {\n",
              "      background-color: #E2EBFA;\n",
              "      box-shadow: 0px 1px 2px rgba(60, 64, 67, 0.3), 0px 1px 3px 1px rgba(60, 64, 67, 0.15);\n",
              "      fill: #174EA6;\n",
              "    }\n",
              "\n",
              "    [theme=dark] .colab-df-convert {\n",
              "      background-color: #3B4455;\n",
              "      fill: #D2E3FC;\n",
              "    }\n",
              "\n",
              "    [theme=dark] .colab-df-convert:hover {\n",
              "      background-color: #434B5C;\n",
              "      box-shadow: 0px 1px 3px 1px rgba(0, 0, 0, 0.15);\n",
              "      filter: drop-shadow(0px 1px 2px rgba(0, 0, 0, 0.3));\n",
              "      fill: #FFFFFF;\n",
              "    }\n",
              "  </style>\n",
              "\n",
              "      <script>\n",
              "        const buttonEl =\n",
              "          document.querySelector('#df-69c1a931-c2d8-4749-9ebc-6dca23cecb1d button.colab-df-convert');\n",
              "        buttonEl.style.display =\n",
              "          google.colab.kernel.accessAllowed ? 'block' : 'none';\n",
              "\n",
              "        async function convertToInteractive(key) {\n",
              "          const element = document.querySelector('#df-69c1a931-c2d8-4749-9ebc-6dca23cecb1d');\n",
              "          const dataTable =\n",
              "            await google.colab.kernel.invokeFunction('convertToInteractive',\n",
              "                                                     [key], {});\n",
              "          if (!dataTable) return;\n",
              "\n",
              "          const docLinkHtml = 'Like what you see? Visit the ' +\n",
              "            '<a target=\"_blank\" href=https://colab.research.google.com/notebooks/data_table.ipynb>data table notebook</a>'\n",
              "            + ' to learn more about interactive tables.';\n",
              "          element.innerHTML = '';\n",
              "          dataTable['output_type'] = 'display_data';\n",
              "          await google.colab.output.renderOutput(dataTable, element);\n",
              "          const docLink = document.createElement('div');\n",
              "          docLink.innerHTML = docLinkHtml;\n",
              "          element.appendChild(docLink);\n",
              "        }\n",
              "      </script>\n",
              "    </div>\n",
              "  </div>\n",
              "  "
            ]
          },
          "metadata": {},
          "execution_count": 2
        }
      ]
    },
    {
      "cell_type": "code",
      "source": [
        "# rows and columns\n",
        "data.shape"
      ],
      "metadata": {
        "colab": {
          "base_uri": "https://localhost:8080/"
        },
        "id": "IgEvpCM-7BHZ",
        "outputId": "93fa8f17-ec8c-4540-f6f9-9218502bc7d1"
      },
      "execution_count": null,
      "outputs": [
        {
          "output_type": "execute_result",
          "data": {
            "text/plain": [
              "(10000, 4)"
            ]
          },
          "metadata": {},
          "execution_count": 3
        }
      ]
    },
    {
      "cell_type": "markdown",
      "source": [
        "### **3. Data Exploration (exploratory data analysis or EDA)**\n",
        "To find out more about the data"
      ],
      "metadata": {
        "id": "B-if4bS_sMCv"
      }
    },
    {
      "cell_type": "code",
      "source": [
        "data.info()"
      ],
      "metadata": {
        "colab": {
          "base_uri": "https://localhost:8080/"
        },
        "id": "Qj0mH2Tn7OH1",
        "outputId": "2df8c4e2-14d4-4622-cc7f-ae31834a7fd9"
      },
      "execution_count": null,
      "outputs": [
        {
          "output_type": "stream",
          "name": "stdout",
          "text": [
            "<class 'pandas.core.frame.DataFrame'>\n",
            "RangeIndex: 10000 entries, 0 to 9999\n",
            "Data columns (total 4 columns):\n",
            " #   Column        Non-Null Count  Dtype \n",
            "---  ------        --------------  ----- \n",
            " 0   Unnamed: 0    10000 non-null  int64 \n",
            " 1   Unnamed: 0.1  10000 non-null  int64 \n",
            " 2   Body          10000 non-null  object\n",
            " 3   Label         10000 non-null  int64 \n",
            "dtypes: int64(3), object(1)\n",
            "memory usage: 312.6+ KB\n"
          ]
        }
      ]
    },
    {
      "cell_type": "code",
      "source": [
        "# To check the null or NaN values in data\n",
        "data.isna().sum()"
      ],
      "metadata": {
        "colab": {
          "base_uri": "https://localhost:8080/"
        },
        "id": "lQywpv3-uLGh",
        "outputId": "80e77afc-2793-433c-adc0-c42a829f258f"
      },
      "execution_count": null,
      "outputs": [
        {
          "output_type": "execute_result",
          "data": {
            "text/plain": [
              "Unnamed: 0      0\n",
              "Unnamed: 0.1    0\n",
              "Body            0\n",
              "Label           0\n",
              "dtype: int64"
            ]
          },
          "metadata": {},
          "execution_count": 5
        }
      ]
    },
    {
      "cell_type": "code",
      "source": [
        "data.describe()"
      ],
      "metadata": {
        "colab": {
          "base_uri": "https://localhost:8080/",
          "height": 300
        },
        "id": "P4EfU_VGvv21",
        "outputId": "407fbae9-040c-430a-8e04-4dd37c96bd22"
      },
      "execution_count": null,
      "outputs": [
        {
          "output_type": "execute_result",
          "data": {
            "text/plain": [
              "         Unnamed: 0  Unnamed: 0.1         Label\n",
              "count  10000.000000  10000.000000  10000.000000\n",
              "mean   17041.404600  17041.404600      0.500000\n",
              "std     9735.989695   9735.989695      0.500025\n",
              "min        8.000000      8.000000      0.000000\n",
              "25%     8562.000000   8562.000000      0.000000\n",
              "50%    17159.000000  17159.000000      0.500000\n",
              "75%    25509.250000  25509.250000      1.000000\n",
              "max    33698.000000  33698.000000      1.000000"
            ],
            "text/html": [
              "\n",
              "  <div id=\"df-5520ce40-5abf-4e30-867e-4888c837f177\">\n",
              "    <div class=\"colab-df-container\">\n",
              "      <div>\n",
              "<style scoped>\n",
              "    .dataframe tbody tr th:only-of-type {\n",
              "        vertical-align: middle;\n",
              "    }\n",
              "\n",
              "    .dataframe tbody tr th {\n",
              "        vertical-align: top;\n",
              "    }\n",
              "\n",
              "    .dataframe thead th {\n",
              "        text-align: right;\n",
              "    }\n",
              "</style>\n",
              "<table border=\"1\" class=\"dataframe\">\n",
              "  <thead>\n",
              "    <tr style=\"text-align: right;\">\n",
              "      <th></th>\n",
              "      <th>Unnamed: 0</th>\n",
              "      <th>Unnamed: 0.1</th>\n",
              "      <th>Label</th>\n",
              "    </tr>\n",
              "  </thead>\n",
              "  <tbody>\n",
              "    <tr>\n",
              "      <th>count</th>\n",
              "      <td>10000.000000</td>\n",
              "      <td>10000.000000</td>\n",
              "      <td>10000.000000</td>\n",
              "    </tr>\n",
              "    <tr>\n",
              "      <th>mean</th>\n",
              "      <td>17041.404600</td>\n",
              "      <td>17041.404600</td>\n",
              "      <td>0.500000</td>\n",
              "    </tr>\n",
              "    <tr>\n",
              "      <th>std</th>\n",
              "      <td>9735.989695</td>\n",
              "      <td>9735.989695</td>\n",
              "      <td>0.500025</td>\n",
              "    </tr>\n",
              "    <tr>\n",
              "      <th>min</th>\n",
              "      <td>8.000000</td>\n",
              "      <td>8.000000</td>\n",
              "      <td>0.000000</td>\n",
              "    </tr>\n",
              "    <tr>\n",
              "      <th>25%</th>\n",
              "      <td>8562.000000</td>\n",
              "      <td>8562.000000</td>\n",
              "      <td>0.000000</td>\n",
              "    </tr>\n",
              "    <tr>\n",
              "      <th>50%</th>\n",
              "      <td>17159.000000</td>\n",
              "      <td>17159.000000</td>\n",
              "      <td>0.500000</td>\n",
              "    </tr>\n",
              "    <tr>\n",
              "      <th>75%</th>\n",
              "      <td>25509.250000</td>\n",
              "      <td>25509.250000</td>\n",
              "      <td>1.000000</td>\n",
              "    </tr>\n",
              "    <tr>\n",
              "      <th>max</th>\n",
              "      <td>33698.000000</td>\n",
              "      <td>33698.000000</td>\n",
              "      <td>1.000000</td>\n",
              "    </tr>\n",
              "  </tbody>\n",
              "</table>\n",
              "</div>\n",
              "      <button class=\"colab-df-convert\" onclick=\"convertToInteractive('df-5520ce40-5abf-4e30-867e-4888c837f177')\"\n",
              "              title=\"Convert this dataframe to an interactive table.\"\n",
              "              style=\"display:none;\">\n",
              "        \n",
              "  <svg xmlns=\"http://www.w3.org/2000/svg\" height=\"24px\"viewBox=\"0 0 24 24\"\n",
              "       width=\"24px\">\n",
              "    <path d=\"M0 0h24v24H0V0z\" fill=\"none\"/>\n",
              "    <path d=\"M18.56 5.44l.94 2.06.94-2.06 2.06-.94-2.06-.94-.94-2.06-.94 2.06-2.06.94zm-11 1L8.5 8.5l.94-2.06 2.06-.94-2.06-.94L8.5 2.5l-.94 2.06-2.06.94zm10 10l.94 2.06.94-2.06 2.06-.94-2.06-.94-.94-2.06-.94 2.06-2.06.94z\"/><path d=\"M17.41 7.96l-1.37-1.37c-.4-.4-.92-.59-1.43-.59-.52 0-1.04.2-1.43.59L10.3 9.45l-7.72 7.72c-.78.78-.78 2.05 0 2.83L4 21.41c.39.39.9.59 1.41.59.51 0 1.02-.2 1.41-.59l7.78-7.78 2.81-2.81c.8-.78.8-2.07 0-2.86zM5.41 20L4 18.59l7.72-7.72 1.47 1.35L5.41 20z\"/>\n",
              "  </svg>\n",
              "      </button>\n",
              "      \n",
              "  <style>\n",
              "    .colab-df-container {\n",
              "      display:flex;\n",
              "      flex-wrap:wrap;\n",
              "      gap: 12px;\n",
              "    }\n",
              "\n",
              "    .colab-df-convert {\n",
              "      background-color: #E8F0FE;\n",
              "      border: none;\n",
              "      border-radius: 50%;\n",
              "      cursor: pointer;\n",
              "      display: none;\n",
              "      fill: #1967D2;\n",
              "      height: 32px;\n",
              "      padding: 0 0 0 0;\n",
              "      width: 32px;\n",
              "    }\n",
              "\n",
              "    .colab-df-convert:hover {\n",
              "      background-color: #E2EBFA;\n",
              "      box-shadow: 0px 1px 2px rgba(60, 64, 67, 0.3), 0px 1px 3px 1px rgba(60, 64, 67, 0.15);\n",
              "      fill: #174EA6;\n",
              "    }\n",
              "\n",
              "    [theme=dark] .colab-df-convert {\n",
              "      background-color: #3B4455;\n",
              "      fill: #D2E3FC;\n",
              "    }\n",
              "\n",
              "    [theme=dark] .colab-df-convert:hover {\n",
              "      background-color: #434B5C;\n",
              "      box-shadow: 0px 1px 3px 1px rgba(0, 0, 0, 0.15);\n",
              "      filter: drop-shadow(0px 1px 2px rgba(0, 0, 0, 0.3));\n",
              "      fill: #FFFFFF;\n",
              "    }\n",
              "  </style>\n",
              "\n",
              "      <script>\n",
              "        const buttonEl =\n",
              "          document.querySelector('#df-5520ce40-5abf-4e30-867e-4888c837f177 button.colab-df-convert');\n",
              "        buttonEl.style.display =\n",
              "          google.colab.kernel.accessAllowed ? 'block' : 'none';\n",
              "\n",
              "        async function convertToInteractive(key) {\n",
              "          const element = document.querySelector('#df-5520ce40-5abf-4e30-867e-4888c837f177');\n",
              "          const dataTable =\n",
              "            await google.colab.kernel.invokeFunction('convertToInteractive',\n",
              "                                                     [key], {});\n",
              "          if (!dataTable) return;\n",
              "\n",
              "          const docLinkHtml = 'Like what you see? Visit the ' +\n",
              "            '<a target=\"_blank\" href=https://colab.research.google.com/notebooks/data_table.ipynb>data table notebook</a>'\n",
              "            + ' to learn more about interactive tables.';\n",
              "          element.innerHTML = '';\n",
              "          dataTable['output_type'] = 'display_data';\n",
              "          await google.colab.output.renderOutput(dataTable, element);\n",
              "          const docLink = document.createElement('div');\n",
              "          docLink.innerHTML = docLinkHtml;\n",
              "          element.appendChild(docLink);\n",
              "        }\n",
              "      </script>\n",
              "    </div>\n",
              "  </div>\n",
              "  "
            ]
          },
          "metadata": {},
          "execution_count": 6
        }
      ]
    },
    {
      "cell_type": "code",
      "source": [
        "# To check the columns\n",
        "data.columns"
      ],
      "metadata": {
        "colab": {
          "base_uri": "https://localhost:8080/"
        },
        "id": "I73t2aXrwNg1",
        "outputId": "65b86cff-cb50-4390-b165-66b4fd80fa29"
      },
      "execution_count": null,
      "outputs": [
        {
          "output_type": "execute_result",
          "data": {
            "text/plain": [
              "Index(['Unnamed: 0', 'Unnamed: 0.1', 'Body', 'Label'], dtype='object')"
            ]
          },
          "metadata": {},
          "execution_count": 7
        }
      ]
    },
    {
      "cell_type": "code",
      "source": [
        "# To drop the first two columns as the information in these columns is not useful\n",
        "data.drop(columns = ['Unnamed: 0', 'Unnamed: 0.1'], inplace = True)"
      ],
      "metadata": {
        "id": "GOVzcS9lqVx1"
      },
      "execution_count": null,
      "outputs": []
    },
    {
      "cell_type": "code",
      "source": [
        "data.head(10)"
      ],
      "metadata": {
        "colab": {
          "base_uri": "https://localhost:8080/",
          "height": 363
        },
        "id": "eKvKZiomyUqM",
        "outputId": "d096c534-bf6e-44d5-d45d-491944b6ac8d"
      },
      "execution_count": null,
      "outputs": [
        {
          "output_type": "execute_result",
          "data": {
            "text/plain": [
              "                                                Body  Label\n",
              "0  Subject: stock promo mover : cwtd\\n * * * urge...      1\n",
              "1  Subject: are you listed in major search engine...      1\n",
              "2  Subject: important information thu , 30 jun 20...      1\n",
              "3  Subject: = ? utf - 8 ? q ? bask your life with...      1\n",
              "4  Subject: \" bidstogo \" is places to go , things...      1\n",
              "5  Subject: dont pay more than $ 100 for ur softw...      1\n",
              "6  Subject: paliourg\\n micros 0 ft for pennies\\n ...      1\n",
              "7  Subject: all graphics software available , che...      1\n",
              "8  Subject: the man of stteel\\n hello , welcome t...      1\n",
              "9  Subject: adjourn pasteup\\n paliourg ,\\n lookin...      1"
            ],
            "text/html": [
              "\n",
              "  <div id=\"df-32a90f1f-3474-4265-89a4-1df854bcdf8d\">\n",
              "    <div class=\"colab-df-container\">\n",
              "      <div>\n",
              "<style scoped>\n",
              "    .dataframe tbody tr th:only-of-type {\n",
              "        vertical-align: middle;\n",
              "    }\n",
              "\n",
              "    .dataframe tbody tr th {\n",
              "        vertical-align: top;\n",
              "    }\n",
              "\n",
              "    .dataframe thead th {\n",
              "        text-align: right;\n",
              "    }\n",
              "</style>\n",
              "<table border=\"1\" class=\"dataframe\">\n",
              "  <thead>\n",
              "    <tr style=\"text-align: right;\">\n",
              "      <th></th>\n",
              "      <th>Body</th>\n",
              "      <th>Label</th>\n",
              "    </tr>\n",
              "  </thead>\n",
              "  <tbody>\n",
              "    <tr>\n",
              "      <th>0</th>\n",
              "      <td>Subject: stock promo mover : cwtd\\n * * * urge...</td>\n",
              "      <td>1</td>\n",
              "    </tr>\n",
              "    <tr>\n",
              "      <th>1</th>\n",
              "      <td>Subject: are you listed in major search engine...</td>\n",
              "      <td>1</td>\n",
              "    </tr>\n",
              "    <tr>\n",
              "      <th>2</th>\n",
              "      <td>Subject: important information thu , 30 jun 20...</td>\n",
              "      <td>1</td>\n",
              "    </tr>\n",
              "    <tr>\n",
              "      <th>3</th>\n",
              "      <td>Subject: = ? utf - 8 ? q ? bask your life with...</td>\n",
              "      <td>1</td>\n",
              "    </tr>\n",
              "    <tr>\n",
              "      <th>4</th>\n",
              "      <td>Subject: \" bidstogo \" is places to go , things...</td>\n",
              "      <td>1</td>\n",
              "    </tr>\n",
              "    <tr>\n",
              "      <th>5</th>\n",
              "      <td>Subject: dont pay more than $ 100 for ur softw...</td>\n",
              "      <td>1</td>\n",
              "    </tr>\n",
              "    <tr>\n",
              "      <th>6</th>\n",
              "      <td>Subject: paliourg\\n micros 0 ft for pennies\\n ...</td>\n",
              "      <td>1</td>\n",
              "    </tr>\n",
              "    <tr>\n",
              "      <th>7</th>\n",
              "      <td>Subject: all graphics software available , che...</td>\n",
              "      <td>1</td>\n",
              "    </tr>\n",
              "    <tr>\n",
              "      <th>8</th>\n",
              "      <td>Subject: the man of stteel\\n hello , welcome t...</td>\n",
              "      <td>1</td>\n",
              "    </tr>\n",
              "    <tr>\n",
              "      <th>9</th>\n",
              "      <td>Subject: adjourn pasteup\\n paliourg ,\\n lookin...</td>\n",
              "      <td>1</td>\n",
              "    </tr>\n",
              "  </tbody>\n",
              "</table>\n",
              "</div>\n",
              "      <button class=\"colab-df-convert\" onclick=\"convertToInteractive('df-32a90f1f-3474-4265-89a4-1df854bcdf8d')\"\n",
              "              title=\"Convert this dataframe to an interactive table.\"\n",
              "              style=\"display:none;\">\n",
              "        \n",
              "  <svg xmlns=\"http://www.w3.org/2000/svg\" height=\"24px\"viewBox=\"0 0 24 24\"\n",
              "       width=\"24px\">\n",
              "    <path d=\"M0 0h24v24H0V0z\" fill=\"none\"/>\n",
              "    <path d=\"M18.56 5.44l.94 2.06.94-2.06 2.06-.94-2.06-.94-.94-2.06-.94 2.06-2.06.94zm-11 1L8.5 8.5l.94-2.06 2.06-.94-2.06-.94L8.5 2.5l-.94 2.06-2.06.94zm10 10l.94 2.06.94-2.06 2.06-.94-2.06-.94-.94-2.06-.94 2.06-2.06.94z\"/><path d=\"M17.41 7.96l-1.37-1.37c-.4-.4-.92-.59-1.43-.59-.52 0-1.04.2-1.43.59L10.3 9.45l-7.72 7.72c-.78.78-.78 2.05 0 2.83L4 21.41c.39.39.9.59 1.41.59.51 0 1.02-.2 1.41-.59l7.78-7.78 2.81-2.81c.8-.78.8-2.07 0-2.86zM5.41 20L4 18.59l7.72-7.72 1.47 1.35L5.41 20z\"/>\n",
              "  </svg>\n",
              "      </button>\n",
              "      \n",
              "  <style>\n",
              "    .colab-df-container {\n",
              "      display:flex;\n",
              "      flex-wrap:wrap;\n",
              "      gap: 12px;\n",
              "    }\n",
              "\n",
              "    .colab-df-convert {\n",
              "      background-color: #E8F0FE;\n",
              "      border: none;\n",
              "      border-radius: 50%;\n",
              "      cursor: pointer;\n",
              "      display: none;\n",
              "      fill: #1967D2;\n",
              "      height: 32px;\n",
              "      padding: 0 0 0 0;\n",
              "      width: 32px;\n",
              "    }\n",
              "\n",
              "    .colab-df-convert:hover {\n",
              "      background-color: #E2EBFA;\n",
              "      box-shadow: 0px 1px 2px rgba(60, 64, 67, 0.3), 0px 1px 3px 1px rgba(60, 64, 67, 0.15);\n",
              "      fill: #174EA6;\n",
              "    }\n",
              "\n",
              "    [theme=dark] .colab-df-convert {\n",
              "      background-color: #3B4455;\n",
              "      fill: #D2E3FC;\n",
              "    }\n",
              "\n",
              "    [theme=dark] .colab-df-convert:hover {\n",
              "      background-color: #434B5C;\n",
              "      box-shadow: 0px 1px 3px 1px rgba(0, 0, 0, 0.15);\n",
              "      filter: drop-shadow(0px 1px 2px rgba(0, 0, 0, 0.3));\n",
              "      fill: #FFFFFF;\n",
              "    }\n",
              "  </style>\n",
              "\n",
              "      <script>\n",
              "        const buttonEl =\n",
              "          document.querySelector('#df-32a90f1f-3474-4265-89a4-1df854bcdf8d button.colab-df-convert');\n",
              "        buttonEl.style.display =\n",
              "          google.colab.kernel.accessAllowed ? 'block' : 'none';\n",
              "\n",
              "        async function convertToInteractive(key) {\n",
              "          const element = document.querySelector('#df-32a90f1f-3474-4265-89a4-1df854bcdf8d');\n",
              "          const dataTable =\n",
              "            await google.colab.kernel.invokeFunction('convertToInteractive',\n",
              "                                                     [key], {});\n",
              "          if (!dataTable) return;\n",
              "\n",
              "          const docLinkHtml = 'Like what you see? Visit the ' +\n",
              "            '<a target=\"_blank\" href=https://colab.research.google.com/notebooks/data_table.ipynb>data table notebook</a>'\n",
              "            + ' to learn more about interactive tables.';\n",
              "          element.innerHTML = '';\n",
              "          dataTable['output_type'] = 'display_data';\n",
              "          await google.colab.output.renderOutput(dataTable, element);\n",
              "          const docLink = document.createElement('div');\n",
              "          docLink.innerHTML = docLinkHtml;\n",
              "          element.appendChild(docLink);\n",
              "        }\n",
              "      </script>\n",
              "    </div>\n",
              "  </div>\n",
              "  "
            ]
          },
          "metadata": {},
          "execution_count": 9
        }
      ]
    },
    {
      "cell_type": "code",
      "source": [
        "data.tail(5)"
      ],
      "metadata": {
        "colab": {
          "base_uri": "https://localhost:8080/",
          "height": 206
        },
        "id": "NKhxLB0nyaLv",
        "outputId": "bbd73086-e340-4584-c783-e8b029549697"
      },
      "execution_count": null,
      "outputs": [
        {
          "output_type": "execute_result",
          "data": {
            "text/plain": [
              "                                                   Body  Label\n",
              "9995  Subject: monday 22 nd oct\\n louise ,\\n do you ...      0\n",
              "9996  Subject: missing bloomberg deals\\n stephanie -...      0\n",
              "9997  Subject: eops salary survey questionnaire\\n we...      0\n",
              "9998  Subject: q 3 comparison\\n hi louise ,\\n i have...      0\n",
              "9999  Subject: confidential folder to safely pass in...      0"
            ],
            "text/html": [
              "\n",
              "  <div id=\"df-e360a17b-3013-49d2-bb53-dafde2d72962\">\n",
              "    <div class=\"colab-df-container\">\n",
              "      <div>\n",
              "<style scoped>\n",
              "    .dataframe tbody tr th:only-of-type {\n",
              "        vertical-align: middle;\n",
              "    }\n",
              "\n",
              "    .dataframe tbody tr th {\n",
              "        vertical-align: top;\n",
              "    }\n",
              "\n",
              "    .dataframe thead th {\n",
              "        text-align: right;\n",
              "    }\n",
              "</style>\n",
              "<table border=\"1\" class=\"dataframe\">\n",
              "  <thead>\n",
              "    <tr style=\"text-align: right;\">\n",
              "      <th></th>\n",
              "      <th>Body</th>\n",
              "      <th>Label</th>\n",
              "    </tr>\n",
              "  </thead>\n",
              "  <tbody>\n",
              "    <tr>\n",
              "      <th>9995</th>\n",
              "      <td>Subject: monday 22 nd oct\\n louise ,\\n do you ...</td>\n",
              "      <td>0</td>\n",
              "    </tr>\n",
              "    <tr>\n",
              "      <th>9996</th>\n",
              "      <td>Subject: missing bloomberg deals\\n stephanie -...</td>\n",
              "      <td>0</td>\n",
              "    </tr>\n",
              "    <tr>\n",
              "      <th>9997</th>\n",
              "      <td>Subject: eops salary survey questionnaire\\n we...</td>\n",
              "      <td>0</td>\n",
              "    </tr>\n",
              "    <tr>\n",
              "      <th>9998</th>\n",
              "      <td>Subject: q 3 comparison\\n hi louise ,\\n i have...</td>\n",
              "      <td>0</td>\n",
              "    </tr>\n",
              "    <tr>\n",
              "      <th>9999</th>\n",
              "      <td>Subject: confidential folder to safely pass in...</td>\n",
              "      <td>0</td>\n",
              "    </tr>\n",
              "  </tbody>\n",
              "</table>\n",
              "</div>\n",
              "      <button class=\"colab-df-convert\" onclick=\"convertToInteractive('df-e360a17b-3013-49d2-bb53-dafde2d72962')\"\n",
              "              title=\"Convert this dataframe to an interactive table.\"\n",
              "              style=\"display:none;\">\n",
              "        \n",
              "  <svg xmlns=\"http://www.w3.org/2000/svg\" height=\"24px\"viewBox=\"0 0 24 24\"\n",
              "       width=\"24px\">\n",
              "    <path d=\"M0 0h24v24H0V0z\" fill=\"none\"/>\n",
              "    <path d=\"M18.56 5.44l.94 2.06.94-2.06 2.06-.94-2.06-.94-.94-2.06-.94 2.06-2.06.94zm-11 1L8.5 8.5l.94-2.06 2.06-.94-2.06-.94L8.5 2.5l-.94 2.06-2.06.94zm10 10l.94 2.06.94-2.06 2.06-.94-2.06-.94-.94-2.06-.94 2.06-2.06.94z\"/><path d=\"M17.41 7.96l-1.37-1.37c-.4-.4-.92-.59-1.43-.59-.52 0-1.04.2-1.43.59L10.3 9.45l-7.72 7.72c-.78.78-.78 2.05 0 2.83L4 21.41c.39.39.9.59 1.41.59.51 0 1.02-.2 1.41-.59l7.78-7.78 2.81-2.81c.8-.78.8-2.07 0-2.86zM5.41 20L4 18.59l7.72-7.72 1.47 1.35L5.41 20z\"/>\n",
              "  </svg>\n",
              "      </button>\n",
              "      \n",
              "  <style>\n",
              "    .colab-df-container {\n",
              "      display:flex;\n",
              "      flex-wrap:wrap;\n",
              "      gap: 12px;\n",
              "    }\n",
              "\n",
              "    .colab-df-convert {\n",
              "      background-color: #E8F0FE;\n",
              "      border: none;\n",
              "      border-radius: 50%;\n",
              "      cursor: pointer;\n",
              "      display: none;\n",
              "      fill: #1967D2;\n",
              "      height: 32px;\n",
              "      padding: 0 0 0 0;\n",
              "      width: 32px;\n",
              "    }\n",
              "\n",
              "    .colab-df-convert:hover {\n",
              "      background-color: #E2EBFA;\n",
              "      box-shadow: 0px 1px 2px rgba(60, 64, 67, 0.3), 0px 1px 3px 1px rgba(60, 64, 67, 0.15);\n",
              "      fill: #174EA6;\n",
              "    }\n",
              "\n",
              "    [theme=dark] .colab-df-convert {\n",
              "      background-color: #3B4455;\n",
              "      fill: #D2E3FC;\n",
              "    }\n",
              "\n",
              "    [theme=dark] .colab-df-convert:hover {\n",
              "      background-color: #434B5C;\n",
              "      box-shadow: 0px 1px 3px 1px rgba(0, 0, 0, 0.15);\n",
              "      filter: drop-shadow(0px 1px 2px rgba(0, 0, 0, 0.3));\n",
              "      fill: #FFFFFF;\n",
              "    }\n",
              "  </style>\n",
              "\n",
              "      <script>\n",
              "        const buttonEl =\n",
              "          document.querySelector('#df-e360a17b-3013-49d2-bb53-dafde2d72962 button.colab-df-convert');\n",
              "        buttonEl.style.display =\n",
              "          google.colab.kernel.accessAllowed ? 'block' : 'none';\n",
              "\n",
              "        async function convertToInteractive(key) {\n",
              "          const element = document.querySelector('#df-e360a17b-3013-49d2-bb53-dafde2d72962');\n",
              "          const dataTable =\n",
              "            await google.colab.kernel.invokeFunction('convertToInteractive',\n",
              "                                                     [key], {});\n",
              "          if (!dataTable) return;\n",
              "\n",
              "          const docLinkHtml = 'Like what you see? Visit the ' +\n",
              "            '<a target=\"_blank\" href=https://colab.research.google.com/notebooks/data_table.ipynb>data table notebook</a>'\n",
              "            + ' to learn more about interactive tables.';\n",
              "          element.innerHTML = '';\n",
              "          dataTable['output_type'] = 'display_data';\n",
              "          await google.colab.output.renderOutput(dataTable, element);\n",
              "          const docLink = document.createElement('div');\n",
              "          docLink.innerHTML = docLinkHtml;\n",
              "          element.appendChild(docLink);\n",
              "        }\n",
              "      </script>\n",
              "    </div>\n",
              "  </div>\n",
              "  "
            ]
          },
          "metadata": {},
          "execution_count": 10
        }
      ]
    },
    {
      "cell_type": "code",
      "source": [
        "# To check and drop the duplicate values(rows) in the data\n",
        "data.drop_duplicates(inplace = True)"
      ],
      "metadata": {
        "id": "5A1B8-Dt0i_x"
      },
      "execution_count": null,
      "outputs": []
    },
    {
      "cell_type": "code",
      "source": [
        "data.duplicated().sum()"
      ],
      "metadata": {
        "colab": {
          "base_uri": "https://localhost:8080/"
        },
        "id": "f4ihV9g8A7EH",
        "outputId": "0abbfc3a-89ec-40a3-cd31-c178add685f0"
      },
      "execution_count": null,
      "outputs": [
        {
          "output_type": "execute_result",
          "data": {
            "text/plain": [
              "0"
            ]
          },
          "metadata": {},
          "execution_count": 12
        }
      ]
    },
    {
      "cell_type": "code",
      "source": [
        "# To find out how many of each class there in label column\n",
        "data[\"Label\"].value_counts(normalize = True)"
      ],
      "metadata": {
        "colab": {
          "base_uri": "https://localhost:8080/"
        },
        "id": "5uJ-Ct2u1P9p",
        "outputId": "24a866be-7b49-49bd-bf5b-c8d0333fc0c3"
      },
      "execution_count": null,
      "outputs": [
        {
          "output_type": "execute_result",
          "data": {
            "text/plain": [
              "0    0.50862\n",
              "1    0.49138\n",
              "Name: Label, dtype: float64"
            ]
          },
          "metadata": {},
          "execution_count": 13
        }
      ]
    },
    {
      "cell_type": "markdown",
      "source": [
        "From this it is concluded that this data has balanced labels so it is a balanced data."
      ],
      "metadata": {
        "id": "_4FlNsEC19KP"
      }
    },
    {
      "cell_type": "code",
      "source": [
        "# Plot the value counts of Label column with a bar graph\n",
        "data.Label.value_counts().plot(kind=\"bar\", color=[\"salmon\", \"lightblue\"])\n",
        "\n",
        "# Add some attributes to it\n",
        "plt.title(\"Email Spam and Not spam Count\")\n",
        "plt.xlabel(\"0 = Not Spam, 1 = Spam\")\n",
        "plt.ylabel(\"Count\");"
      ],
      "metadata": {
        "colab": {
          "base_uri": "https://localhost:8080/",
          "height": 292
        },
        "id": "C0AqGA8_2QWB",
        "outputId": "026b946c-7876-4cfe-b2b9-1867b034125f"
      },
      "execution_count": null,
      "outputs": [
        {
          "output_type": "display_data",
          "data": {
            "text/plain": [
              "<Figure size 432x288 with 1 Axes>"
            ],
            "image/png": "[encoded data removed]"
          },
          "metadata": {
            "needs_background": "light"
          }
        }
      ]
    },
    {
      "cell_type": "code",
      "source": [
        "# To check the datatypes of columns\n",
        "data.dtypes"
      ],
      "metadata": {
        "colab": {
          "base_uri": "https://localhost:8080/"
        },
        "id": "1yLIsqyo4_jF",
        "outputId": "58d9a1fe-f7ea-4f25-8fab-3f71260d11d8"
      },
      "execution_count": null,
      "outputs": [
        {
          "output_type": "execute_result",
          "data": {
            "text/plain": [
              "Body     object\n",
              "Label     int64\n",
              "dtype: object"
            ]
          },
          "metadata": {},
          "execution_count": 15
        }
      ]
    },
    {
      "cell_type": "markdown",
      "source": [
        "## **4. Modeling**\n",
        "To do this, split the target variable(Label) from the rest(Body)."
      ],
      "metadata": {
        "id": "PntR6MNbB1B5"
      }
    },
    {
      "cell_type": "code",
      "source": [
        "# Input or independent variable\n",
        "X = data['Body']\n",
        "\n",
        "# Target or dependent variable\n",
        "Y = data['Label']"
      ],
      "metadata": {
        "id": "BSr1biVRBLjW"
      },
      "execution_count": null,
      "outputs": []
    },
    {
      "cell_type": "code",
      "source": [
        "X.head()"
      ],
      "metadata": {
        "colab": {
          "base_uri": "https://localhost:8080/"
        },
        "id": "ZEB9EH8cDWs2",
        "outputId": "4d80b143-c85b-4806-86d9-e246bc393160"
      },
      "execution_count": null,
      "outputs": [
        {
          "output_type": "execute_result",
          "data": {
            "text/plain": [
              "0    Subject: stock promo mover : cwtd\\n * * * urge...\n",
              "1    Subject: are you listed in major search engine...\n",
              "2    Subject: important information thu , 30 jun 20...\n",
              "3    Subject: = ? utf - 8 ? q ? bask your life with...\n",
              "4    Subject: \" bidstogo \" is places to go , things...\n",
              "Name: Body, dtype: object"
            ]
          },
          "metadata": {},
          "execution_count": 17
        }
      ]
    },
    {
      "cell_type": "code",
      "source": [
        "Y.head()"
      ],
      "metadata": {
        "colab": {
          "base_uri": "https://localhost:8080/"
        },
        "id": "HEUOxd-KDjgY",
        "outputId": "7f7fdcdd-1265-4fa5-c93a-398a428f12fc"
      },
      "execution_count": null,
      "outputs": [
        {
          "output_type": "execute_result",
          "data": {
            "text/plain": [
              "0    1\n",
              "1    1\n",
              "2    1\n",
              "3    1\n",
              "4    1\n",
              "Name: Label, dtype: int64"
            ]
          },
          "metadata": {},
          "execution_count": 18
        }
      ]
    },
    {
      "cell_type": "code",
      "source": [
        "# Labels\n",
        "Y"
      ],
      "metadata": {
        "colab": {
          "base_uri": "https://localhost:8080/"
        },
        "id": "ow15efa6HFtg",
        "outputId": "36f4e188-fcbc-444a-8329-7855e19301c3"
      },
      "execution_count": null,
      "outputs": [
        {
          "output_type": "execute_result",
          "data": {
            "text/plain": [
              "0       1\n",
              "1       1\n",
              "2       1\n",
              "3       1\n",
              "4       1\n",
              "       ..\n",
              "9995    0\n",
              "9996    0\n",
              "9997    0\n",
              "9998    0\n",
              "9999    0\n",
              "Name: Label, Length: 9687, dtype: int64"
            ]
          },
          "metadata": {},
          "execution_count": 19
        }
      ]
    },
    {
      "cell_type": "markdown",
      "source": [
        "## Training and test split\n",
        "To split data into a training and test set, Use Scikit-Learn's train_test_split() and feed it independent and dependent variables (X & Y).  Split the data into 70% training & 30% testing."
      ],
      "metadata": {
        "id": "z1RmqLSoLQOt"
      }
    },
    {
      "cell_type": "code",
      "source": [
        "# Random seed for reproducibility\n",
        "np.random.seed(42)\n",
        "\n",
        "# Split into train(70%) & test set(30%)\n",
        "X_train, X_test, y_train, y_test = train_test_split(X, # independent variable\n",
        "                                                    Y, # dependent variable\n",
        "                                                    test_size = 0.3) # percentage of data to use for test set"
      ],
      "metadata": {
        "id": "uEPI1a0SLIBA"
      },
      "execution_count": null,
      "outputs": []
    },
    {
      "cell_type": "code",
      "source": [
        "X_train.head(), X_train.shape"
      ],
      "metadata": {
        "colab": {
          "base_uri": "https://localhost:8080/"
        },
        "id": "ALNzUNn4NSME",
        "outputId": "3cfe3331-f617-4431-f54c-7203119e91e4"
      },
      "execution_count": null,
      "outputs": [
        {
          "output_type": "execute_result",
          "data": {
            "text/plain": [
              "(4865    Subject: fly macromedia . xp pro ( sp 2 ) , ad...\n",
              " 2299    Subject: look at this ! via @ gra , le ^ vitra...\n",
              " 1779    Subject: [ ilug ] from the desk of : george os...\n",
              " 7496    Subject: assume enw is doing for you what you ...\n",
              " 7290    Subject: re : new color printer\\n sorry ,\\n do...\n",
              " Name: Body, dtype: object, (6780,))"
            ]
          },
          "metadata": {},
          "execution_count": 21
        }
      ]
    },
    {
      "cell_type": "code",
      "source": [
        "y_train, len(y_train)"
      ],
      "metadata": {
        "colab": {
          "base_uri": "https://localhost:8080/"
        },
        "id": "CRX-1Mk8N6_W",
        "outputId": "55e3f955-41f0-4930-98f5-f27e335c6660"
      },
      "execution_count": null,
      "outputs": [
        {
          "output_type": "execute_result",
          "data": {
            "text/plain": [
              "(4865    1\n",
              " 2299    1\n",
              " 1779    1\n",
              " 7496    0\n",
              " 7290    0\n",
              "        ..\n",
              " 5979    0\n",
              " 5431    0\n",
              " 5631    0\n",
              " 869     1\n",
              " 7530    0\n",
              " Name: Label, Length: 6780, dtype: int64, 6780)"
            ]
          },
          "metadata": {},
          "execution_count": 22
        }
      ]
    },
    {
      "cell_type": "markdown",
      "source": [
        "So 6780 samples are used to train on. Now let's look at test data."
      ],
      "metadata": {
        "id": "cQEaoP1hOUto"
      }
    },
    {
      "cell_type": "code",
      "source": [
        "X_test.head(), X_test.shape"
      ],
      "metadata": {
        "colab": {
          "base_uri": "https://localhost:8080/"
        },
        "id": "Hb2m-lCcOjvi",
        "outputId": "a30d6f15-bb6b-4568-af30-f97d5d59c592"
      },
      "execution_count": null,
      "outputs": [
        {
          "output_type": "execute_result",
          "data": {
            "text/plain": [
              "(8974    Subject: re : chapter\\n dear vince ,\\n that ' ...\n",
              " 8329    Subject: 98 - 6892 overflow\\n can you please e...\n",
              " 1718    Subject: unique idea : $ 50 no wager requireme...\n",
              " 4662    Subject: my portfolio\\n hi\\n my name is ernie ...\n",
              " 39      Subject: you need only 15 minutes to prepare f...\n",
              " Name: Body, dtype: object, (2907,))"
            ]
          },
          "metadata": {},
          "execution_count": 23
        }
      ]
    },
    {
      "cell_type": "code",
      "source": [
        "y_test, len(y_test)"
      ],
      "metadata": {
        "colab": {
          "base_uri": "https://localhost:8080/"
        },
        "id": "DQ2AY4SkOwXd",
        "outputId": "c9f66ccf-7f0a-4424-cdb4-1bcb7278d3f1"
      },
      "execution_count": null,
      "outputs": [
        {
          "output_type": "execute_result",
          "data": {
            "text/plain": [
              "(8974    0\n",
              " 8329    0\n",
              " 1718    1\n",
              " 4662    1\n",
              " 39      1\n",
              "        ..\n",
              " 9900    0\n",
              " 5909    0\n",
              " 9242    0\n",
              " 9946    0\n",
              " 1488    1\n",
              " Name: Label, Length: 2907, dtype: int64, 2907)"
            ]
          },
          "metadata": {},
          "execution_count": 24
        }
      ]
    },
    {
      "cell_type": "markdown",
      "source": [
        "## Feature Extraction (Text data)\n",
        "To improve the accuracy of learning algorithm and shorten the time."
      ],
      "metadata": {
        "id": "9VVFDj6SP-xl"
      }
    },
    {
      "cell_type": "code",
      "source": [
        "# Download the stopwords\n",
        "nltk.download('stopwords')"
      ],
      "metadata": {
        "colab": {
          "base_uri": "https://localhost:8080/"
        },
        "id": "fUYl7gHSb1W_",
        "outputId": "f79d5979-dd5f-4299-a070-8692d5618624"
      },
      "execution_count": null,
      "outputs": [
        {
          "output_type": "stream",
          "name": "stderr",
          "text": [
            "[nltk_data] Downloading package stopwords to /root/nltk_data...\n",
            "[nltk_data]   Unzipping corpora/stopwords.zip.\n"
          ]
        },
        {
          "output_type": "execute_result",
          "data": {
            "text/plain": [
              "True"
            ]
          },
          "metadata": {},
          "execution_count": 25
        }
      ]
    },
    {
      "cell_type": "code",
      "source": [
        "# Create a function to preprocess the text data\n",
        "def preprocess_text(Body):\n",
        "\n",
        "  # 1. Remove punctuation\n",
        "  not_punc = [char for char in Body if char not in string.punctuation]\n",
        "  not_punc = ''.join(not_punc)\n",
        "\n",
        "  # 2. Remove the stopkeywords\n",
        "  clean_words = [word for word in not_punc.split() if word.lower() not in stopwords.words('english')]\n",
        "\n",
        "  # 3. Return a list of clean text(Label) words\n",
        "  return clean_words"
      ],
      "metadata": {
        "id": "zy4jqhFPXW2N"
      },
      "execution_count": null,
      "outputs": []
    },
    {
      "cell_type": "code",
      "source": [
        "# To show the list of tokens(Tokenization)\n",
        "data['Body'].head().apply(preprocess_text)"
      ],
      "metadata": {
        "colab": {
          "base_uri": "https://localhost:8080/"
        },
        "id": "rR7LDvKaYlFA",
        "outputId": "96686d55-ff2d-403f-c7e2-43e2a733d18f"
      },
      "execution_count": null,
      "outputs": [
        {
          "output_type": "execute_result",
          "data": {
            "text/plain": [
              "0    [Subject, stock, promo, mover, cwtd, urgent, i...\n",
              "1    [Subject, listed, major, search, engines, subm...\n",
              "2    [Subject, important, information, thu, 30, jun...\n",
              "3    [Subject, utf, 8, q, bask, life, utf, 8, q, in...\n",
              "4    [Subject, bidstogo, places, go, things, hello,...\n",
              "Name: Body, dtype: object"
            ]
          },
          "metadata": {},
          "execution_count": 27
        }
      ]
    },
    {
      "cell_type": "code",
      "source": [
        "# Now to convert the collection of text to a matrix of token counts\n",
        "# Call the preprocess_text function\n",
        "feature_extraction = CountVectorizer(analyzer= preprocess_text)\n",
        "\n",
        "# Separately fit the CountVectorizer to X_train and X_test data\n",
        "X_train_features = feature_extraction.fit_transform(X_train)\n",
        "X_test_features = feature_extraction.transform(X_test)"
      ],
      "metadata": {
        "id": "Y_jBk_xXdIbS"
      },
      "execution_count": null,
      "outputs": []
    },
    {
      "cell_type": "code",
      "source": [
        "print(X_train, X_train.shape)"
      ],
      "metadata": {
        "colab": {
          "base_uri": "https://localhost:8080/"
        },
        "id": "JCb3ITV_jt27",
        "outputId": "be571b88-0dcd-4292-bcde-ef6fcf07d9a2"
      },
      "execution_count": null,
      "outputs": [
        {
          "output_type": "stream",
          "name": "stdout",
          "text": [
            "4865    Subject: fly macromedia . xp pro ( sp 2 ) , ad...\n",
            "2299    Subject: look at this ! via @ gra , le ^ vitra...\n",
            "1779    Subject: [ ilug ] from the desk of : george os...\n",
            "7496    Subject: assume enw is doing for you what you ...\n",
            "7290    Subject: re : new color printer\\n sorry ,\\n do...\n",
            "                              ...                        \n",
            "5979    Subject: 2000 chairman ' s award\\n everyday he...\n",
            "5431    Subject: thank you for the memories\\n dear all...\n",
            "5631    Subject: ces - duke en field services\\n the pu...\n",
            "869     Subject: have you ever seen pretty sexy skirwh...\n",
            "7530    Subject: hea 34 th annual sports tournament re...\n",
            "Name: Body, Length: 6780, dtype: object (6780,)\n"
          ]
        }
      ]
    },
    {
      "cell_type": "code",
      "source": [
        "print(X_train_features, X_train_features.shape)"
      ],
      "metadata": {
        "colab": {
          "base_uri": "https://localhost:8080/"
        },
        "id": "9oK9bSQzj2JD",
        "outputId": "4aede04e-76ff-4940-c233-782632479fe9"
      },
      "execution_count": null,
      "outputs": [
        {
          "output_type": "stream",
          "name": "stdout",
          "text": [
            "  (0, 5583)\t1\n",
            "  (0, 28504)\t1\n",
            "  (0, 41495)\t2\n",
            "  (0, 70717)\t2\n",
            "  (0, 52040)\t3\n",
            "  (0, 60524)\t2\n",
            "  (0, 1331)\t3\n",
            "  (0, 6449)\t4\n",
            "  (0, 50156)\t2\n",
            "  (0, 44642)\t1\n",
            "  (0, 47162)\t3\n",
            "  (0, 47590)\t1\n",
            "  (0, 2102)\t1\n",
            "  (0, 6143)\t2\n",
            "  (0, 46380)\t3\n",
            "  (0, 53680)\t2\n",
            "  (0, 28041)\t2\n",
            "  (0, 17465)\t1\n",
            "  (0, 52172)\t1\n",
            "  (0, 48886)\t1\n",
            "  (0, 23410)\t1\n",
            "  (0, 51084)\t1\n",
            "  (0, 60201)\t1\n",
            "  (0, 61277)\t1\n",
            "  (0, 1332)\t1\n",
            "  :\t:\n",
            "  (6779, 54954)\t1\n",
            "  (6779, 2353)\t2\n",
            "  (6779, 58093)\t1\n",
            "  (6779, 18975)\t1\n",
            "  (6779, 43337)\t1\n",
            "  (6779, 54667)\t1\n",
            "  (6779, 54998)\t1\n",
            "  (6779, 40793)\t1\n",
            "  (6779, 43635)\t1\n",
            "  (6779, 41638)\t1\n",
            "  (6779, 3972)\t1\n",
            "  (6779, 9440)\t1\n",
            "  (6779, 16765)\t1\n",
            "  (6779, 9954)\t1\n",
            "  (6779, 60882)\t2\n",
            "  (6779, 65048)\t2\n",
            "  (6779, 63761)\t1\n",
            "  (6779, 32480)\t3\n",
            "  (6779, 18814)\t1\n",
            "  (6779, 38611)\t1\n",
            "  (6779, 64670)\t1\n",
            "  (6779, 33776)\t2\n",
            "  (6779, 299)\t1\n",
            "  (6779, 3936)\t1\n",
            "  (6779, 33777)\t1 (6780, 71845)\n"
          ]
        }
      ]
    },
    {
      "cell_type": "code",
      "source": [
        "print(X_test_features, X_test_features.shape)"
      ],
      "metadata": {
        "colab": {
          "base_uri": "https://localhost:8080/"
        },
        "id": "gI28nc9vSPd1",
        "outputId": "c946a594-a7ea-435f-a1e4-10290219c8df"
      },
      "execution_count": null,
      "outputs": [
        {
          "output_type": "stream",
          "name": "stdout",
          "text": [
            "  (0, 175)\t1\n",
            "  (0, 380)\t1\n",
            "  (0, 1139)\t1\n",
            "  (0, 1334)\t2\n",
            "  (0, 2026)\t1\n",
            "  (0, 2069)\t1\n",
            "  (0, 2102)\t1\n",
            "  (0, 2156)\t1\n",
            "  (0, 3211)\t1\n",
            "  (0, 3498)\t1\n",
            "  (0, 5583)\t1\n",
            "  (0, 7503)\t1\n",
            "  (0, 9160)\t1\n",
            "  (0, 9806)\t1\n",
            "  (0, 11569)\t2\n",
            "  (0, 15057)\t2\n",
            "  (0, 15504)\t2\n",
            "  (0, 15539)\t5\n",
            "  (0, 15683)\t1\n",
            "  (0, 16030)\t6\n",
            "  (0, 17353)\t1\n",
            "  (0, 18136)\t1\n",
            "  (0, 18765)\t1\n",
            "  (0, 20273)\t1\n",
            "  (0, 20389)\t1\n",
            "  :\t:\n",
            "  (2906, 34382)\t1\n",
            "  (2906, 40648)\t1\n",
            "  (2906, 41700)\t1\n",
            "  (2906, 44393)\t1\n",
            "  (2906, 44437)\t1\n",
            "  (2906, 46500)\t1\n",
            "  (2906, 50157)\t1\n",
            "  (2906, 50673)\t1\n",
            "  (2906, 51508)\t1\n",
            "  (2906, 52091)\t1\n",
            "  (2906, 53858)\t1\n",
            "  (2906, 57316)\t1\n",
            "  (2906, 58042)\t1\n",
            "  (2906, 59541)\t1\n",
            "  (2906, 61104)\t1\n",
            "  (2906, 61283)\t1\n",
            "  (2906, 63980)\t1\n",
            "  (2906, 66995)\t1\n",
            "  (2906, 67148)\t1\n",
            "  (2906, 67171)\t1\n",
            "  (2906, 68323)\t1\n",
            "  (2906, 70470)\t2\n",
            "  (2906, 70517)\t1\n",
            "  (2906, 70686)\t2\n",
            "  (2906, 71073)\t1 (2907, 71845)\n"
          ]
        }
      ]
    },
    {
      "cell_type": "markdown",
      "source": [
        "## Training of Models\n",
        "Now Data is ready to train on the training set of data. Four machine learning models (in Scikit-Learn library) used:\n",
        "1. Multinomial Naive Bayes\n",
        "2. Logistic Regression\n",
        "3. Random Forest Classifier\n",
        "4. Support Vector Classifier.\n"
      ],
      "metadata": {
        "id": "0gQYTB8kOtvZ"
      }
    },
    {
      "cell_type": "code",
      "source": [
        "# Put the models in a dictionary\n",
        "models = {\"Multinomial Naive Bayes\": MultinomialNB(),\n",
        "          \"Logistic Regression\": LogisticRegression(),\n",
        "          \"Random Forest Classifier\": RandomForestClassifier(),\n",
        "          \"Support Vector Classifier\" : SVC(kernel='sigmoid', gamma=1.0)}\n",
        "\n",
        "# Create a function to fit and score(accuracy) models\n",
        "def fit_and_score(models, X_train_features, X_test_features, y_train, y_test):\n",
        "    \"\"\"\n",
        "    Fits and evaluates given machine learning models.\n",
        "    models : a dict of different Scikit-Learn machine learning models\n",
        "    X_train_features : training data\n",
        "    X_test_features : testing data\n",
        "    y_train : labels assosciated with training data\n",
        "    y_test : labels assosciated with test data\n",
        "    \"\"\" # Docstring of fit_and_score function\n",
        "\n",
        "    # Random seed for reproducible results\n",
        "    np.random.seed(42)\n",
        "\n",
        "    # Make a list to keep model scores(accuracy)\n",
        "    model_scores = {}\n",
        "    model_pred = {}\n",
        "\n",
        "    # Loop through models\n",
        "    for name, model in models.items():\n",
        "        # Fit the model to the data\n",
        "        model.fit(X_train_features, y_train)\n",
        "\n",
        "        # Evaluate the model and append its score to model_scores\n",
        "        model_scores[name] = model.score(X_test_features, y_test)\n",
        "        # To predict the lebals on testing data\n",
        "        model_pred[name] = model.predict(X_test_features)\n",
        "    return model_scores"
      ],
      "metadata": {
        "id": "ybVlbBlROddz"
      },
      "execution_count": null,
      "outputs": []
    },
    {
      "cell_type": "markdown",
      "source": [
        "## **5. Evaluation**"
      ],
      "metadata": {
        "id": "_S3gYXhjh0CK"
      }
    },
    {
      "cell_type": "code",
      "source": [
        "# To show the results(accuracy) of all three models\n",
        "model_scores= fit_and_score(models=models,\n",
        "                             X_train_features=X_train_features,\n",
        "                             X_test_features=X_test_features,\n",
        "                             y_train=y_train,\n",
        "                             y_test=y_test)\n",
        "model_scores"
      ],
      "metadata": {
        "colab": {
          "base_uri": "https://localhost:8080/"
        },
        "id": "H5esx9Oaa4M3",
        "outputId": "40b08398-77eb-47c2-f0e0-657fafa9e573"
      },
      "execution_count": null,
      "outputs": [
        {
          "output_type": "execute_result",
          "data": {
            "text/plain": [
              "{'Multinomial Naive Bayes': 0.9810801513587891,\n",
              " 'Logistic Regression': 0.978672170622635,\n",
              " 'Random Forest Classifier': 0.9766081871345029,\n",
              " 'Support Vector Classifier': 0.6965944272445821}"
            ]
          },
          "metadata": {},
          "execution_count": 33
        }
      ]
    },
    {
      "cell_type": "markdown",
      "source": [
        "## Model Comparison\n",
        "As I've saved the models scores to a dictionary, then I can plot them by first converting them to a DataFrame."
      ],
      "metadata": {
        "id": "he-WjMaXhcwx"
      }
    },
    {
      "cell_type": "code",
      "source": [
        "# Plot the bar graph to visualize the models score comparison\n",
        "model_compare = pd.DataFrame(model_scores, index=[\"Accuracy\"])\n",
        "model_compare.T.plot.bar(color = 'lightblue');"
      ],
      "metadata": {
        "colab": {
          "base_uri": "https://localhost:8080/",
          "height": 379
        },
        "id": "owNjsnxDhbz1",
        "outputId": "dd8d508d-451c-49c6-94f8-5f40fe07ac06"
      },
      "execution_count": null,
      "outputs": [
        {
          "output_type": "display_data",
          "data": {
            "text/plain": [
              "<Figure size 432x288 with 1 Axes>"
            ],
            "image/png": "[encoded data removed]"
          },
          "metadata": {
            "needs_background": "light"
          }
        }
      ]
    },
    {
      "cell_type": "markdown",
      "source": [
        "So we can see that Multinomial Naive Bayes performs best with the accuracy of 0.98"
      ],
      "metadata": {
        "id": "N9mbMHCABdPd"
      }
    },
    {
      "cell_type": "markdown",
      "source": [
        "### **6. Hyperparameter tuning**"
      ],
      "metadata": {
        "id": "_uHu8iN3DsZu"
      }
    },
    {
      "cell_type": "markdown",
      "source": [
        "## Tuning models with RandomizedSearchCV\n",
        "There's a number of different hyperparameters we can tune for:\n",
        "*   Multinomial Naive Bayes\n",
        "*   Logistic Regression\n",
        "*   Random Forest Classifier\n",
        "\n",
        "\n",
        "Try different combination of hyperparameters to improve score(accuracy).\n",
        "\n"
      ],
      "metadata": {
        "id": "nkjOWjouEOkd"
      }
    },
    {
      "cell_type": "code",
      "source": [
        "# Different Multinomial Naive Bayes hperparameters\n",
        "mul_nb_grid = {\"alpha\": np.arange(0.1, 2, 0.1)}\n",
        "\n",
        "# Different LogisticRegression hyperparameters\n",
        "log_reg_grid = {\"C\": np.logspace(-4, 4, 20),\n",
        "                \"solver\": [\"liblinear\"]}\n",
        "\n",
        "# Different RandomForestClassifier hyperparameters\n",
        "rfc_grid = {\"n_estimators\": np.arange(10, 1000, 50),\n",
        "           \"max_depth\": [None, 3, 5, 10],\n",
        "           \"min_samples_split\": np.arange(2, 20, 2),\n",
        "           \"min_samples_leaf\": np.arange(1, 20, 2)}"
      ],
      "metadata": {
        "id": "HvE-dWgCBbO7"
      },
      "execution_count": null,
      "outputs": []
    },
    {
      "cell_type": "markdown",
      "source": [
        "Pass the different hyperparameters from mul_nb as well as set n_iter = 50. This means, RandomizedSearchCV will try 20 different combinations of hyperparameters from mul_nb and save the best ones."
      ],
      "metadata": {
        "id": "k2cT5k9dWPlh"
      }
    },
    {
      "cell_type": "code",
      "source": [
        "# Setup random seed\n",
        "np.random.seed(42)\n",
        "\n",
        "# Setup random hyperparameter search for Multinomial Naive Bayes\n",
        "rsc_mul_nb = RandomizedSearchCV(MultinomialNB(),\n",
        "                                param_distributions=mul_nb_grid,\n",
        "                                cv=5,\n",
        "                                n_iter=100,)\n",
        "\n",
        "# Fit random hyperparameter search model\n",
        "rsc_mul_nb.fit(X_train_features, y_train);"
      ],
      "metadata": {
        "colab": {
          "base_uri": "https://localhost:8080/"
        },
        "id": "KKRikKLCWOkV",
        "outputId": "74b44be4-d98c-4282-8642-6655fc4dad84"
      },
      "execution_count": null,
      "outputs": [
        {
          "output_type": "stream",
          "name": "stderr",
          "text": [
            "/usr/local/lib/python3.8/dist-packages/sklearn/model_selection/_search.py:292: UserWarning: The total space of parameters 19 is smaller than n_iter=100. Running 19 iterations. For exhaustive searches, use GridSearchCV.\n",
            "  warnings.warn(\n"
          ]
        }
      ]
    },
    {
      "cell_type": "code",
      "source": [
        "# Save the model to save time\n",
        "pickle.dump(rsc_mul_nb, open('model1.pkl', 'wb'))"
      ],
      "metadata": {
        "id": "L7vCvzF_zFD0"
      },
      "execution_count": null,
      "outputs": []
    },
    {
      "cell_type": "code",
      "source": [
        "# Load the model\n",
        "pickled_model1 = pickle.load(open('model1.pkl', 'rb'))"
      ],
      "metadata": {
        "id": "a9GKjTjZzKhl"
      },
      "execution_count": null,
      "outputs": []
    },
    {
      "cell_type": "code",
      "source": [
        "pickled_model1"
      ],
      "metadata": {
        "colab": {
          "base_uri": "https://localhost:8080/"
        },
        "id": "eARXXW0pzSTI",
        "outputId": "07cb632d-eef4-480a-ec4c-38d584dea47e"
      },
      "execution_count": null,
      "outputs": [
        {
          "output_type": "execute_result",
          "data": {
            "text/plain": [
              "RandomizedSearchCV(cv=5, estimator=MultinomialNB(), n_iter=100,\n",
              "                   param_distributions={'alpha': array([0.1, 0.2, 0.3, 0.4, 0.5, 0.6, 0.7, 0.8, 0.9, 1. , 1.1, 1.2, 1.3,\n",
              "       1.4, 1.5, 1.6, 1.7, 1.8, 1.9])})"
            ]
          },
          "metadata": {},
          "execution_count": 39
        }
      ]
    },
    {
      "cell_type": "code",
      "source": [
        "# To show the best parameters\n",
        "pickled_model1.best_params_"
      ],
      "metadata": {
        "colab": {
          "base_uri": "https://localhost:8080/"
        },
        "id": "xo-4pUJ-XwEO",
        "outputId": "867086ff-4be4-4042-e699-baae9a7671c8"
      },
      "execution_count": null,
      "outputs": [
        {
          "output_type": "execute_result",
          "data": {
            "text/plain": [
              "{'alpha': 0.6}"
            ]
          },
          "metadata": {},
          "execution_count": 40
        }
      ]
    },
    {
      "cell_type": "code",
      "source": [
        "pickled_model1.score(X_test_features, y_test)"
      ],
      "metadata": {
        "colab": {
          "base_uri": "https://localhost:8080/"
        },
        "id": "hbNnLqFWXw8k",
        "outputId": "38547e55-b017-417c-f445-2111db652e26"
      },
      "execution_count": null,
      "outputs": [
        {
          "output_type": "execute_result",
          "data": {
            "text/plain": [
              "0.9814241486068112"
            ]
          },
          "metadata": {},
          "execution_count": 41
        }
      ]
    },
    {
      "cell_type": "markdown",
      "source": [
        "Pass the different hyperparameters from log_reg_grid as well as set n_iter = 20. This means, RandomizedSearchCV will try 20 different combinations of hyperparameters from log_reg_grid and save the best ones."
      ],
      "metadata": {
        "id": "qvTc5749HY_5"
      }
    },
    {
      "cell_type": "code",
      "source": [
        "# Setup random seed\n",
        "np.random.seed(42)\n",
        "\n",
        "# Setup random hyperparameter search for LogisticRegression\n",
        "rs_log_reg = RandomizedSearchCV(LogisticRegression(),\n",
        "                                param_distributions=log_reg_grid,\n",
        "                                cv=5,\n",
        "                                n_iter=20,\n",
        "                                verbose=True)\n",
        "\n",
        "# Fit random hyperparameter search model\n",
        "rs_log_reg.fit(X_train_features, y_train);"
      ],
      "metadata": {
        "colab": {
          "base_uri": "https://localhost:8080/"
        },
        "id": "iz9pHLESHhCO",
        "outputId": "b575bf55-03e7-4021-b4fa-ff17e20160f3"
      },
      "execution_count": null,
      "outputs": [
        {
          "output_type": "stream",
          "name": "stdout",
          "text": [
            "Fitting 5 folds for each of 20 candidates, totalling 100 fits\n"
          ]
        }
      ]
    },
    {
      "cell_type": "code",
      "source": [
        "# Save the model to save time\n",
        "pickle.dump(rs_log_reg, open('model2.pkl', 'wb'))"
      ],
      "metadata": {
        "id": "5q-HaLnXx8e5"
      },
      "execution_count": null,
      "outputs": []
    },
    {
      "cell_type": "code",
      "source": [
        "# Load the model\n",
        "pickled_model2 = pickle.load(open('model2.pkl', 'rb'))"
      ],
      "metadata": {
        "id": "LYvgO-WXyLSv"
      },
      "execution_count": null,
      "outputs": []
    },
    {
      "cell_type": "code",
      "source": [
        "pickled_model2"
      ],
      "metadata": {
        "colab": {
          "base_uri": "https://localhost:8080/"
        },
        "id": "1eATlIH6yUn6",
        "outputId": "f81d37a7-55ed-4a47-8408-4e957183a831"
      },
      "execution_count": null,
      "outputs": [
        {
          "output_type": "execute_result",
          "data": {
            "text/plain": [
              "RandomizedSearchCV(cv=5, estimator=LogisticRegression(), n_iter=20,\n",
              "                   param_distributions={'C': array([1.00000000e-04, 2.63665090e-04, 6.95192796e-04, 1.83298071e-03,\n",
              "       4.83293024e-03, 1.27427499e-02, 3.35981829e-02, 8.85866790e-02,\n",
              "       2.33572147e-01, 6.15848211e-01, 1.62377674e+00, 4.28133240e+00,\n",
              "       1.12883789e+01, 2.97635144e+01, 7.84759970e+01, 2.06913808e+02,\n",
              "       5.45559478e+02, 1.43844989e+03, 3.79269019e+03, 1.00000000e+04]),\n",
              "                                        'solver': ['liblinear']},\n",
              "                   verbose=True)"
            ]
          },
          "metadata": {},
          "execution_count": 45
        }
      ]
    },
    {
      "cell_type": "code",
      "source": [
        "# To show the best parameters\n",
        "pickled_model2.best_params_"
      ],
      "metadata": {
        "colab": {
          "base_uri": "https://localhost:8080/"
        },
        "id": "RrYkXObSI_RY",
        "outputId": "767043b7-592e-450f-c019-eeb495043c05"
      },
      "execution_count": null,
      "outputs": [
        {
          "output_type": "execute_result",
          "data": {
            "text/plain": [
              "{'solver': 'liblinear', 'C': 1.623776739188721}"
            ]
          },
          "metadata": {},
          "execution_count": 46
        }
      ]
    },
    {
      "cell_type": "code",
      "source": [
        "pickled_model2.score(X_test_features, y_test)"
      ],
      "metadata": {
        "colab": {
          "base_uri": "https://localhost:8080/"
        },
        "id": "tQ2c9lZZJHMV",
        "outputId": "b5f5c6ce-fb0c-4f9d-c734-5f968554a924"
      },
      "execution_count": null,
      "outputs": [
        {
          "output_type": "execute_result",
          "data": {
            "text/plain": [
              "0.9797041623667011"
            ]
          },
          "metadata": {},
          "execution_count": 47
        }
      ]
    },
    {
      "cell_type": "markdown",
      "source": [
        "Now after tuning of *LogisticRegression* using RandomizedSearchCV, do the same for RandomForestClassifier."
      ],
      "metadata": {
        "id": "cUhYnoe7Jd40"
      }
    },
    {
      "cell_type": "code",
      "source": [
        "# Setup random seed\n",
        "np.random.seed(42)\n",
        "\n",
        "# Setup random hyperparameter search for RandomForestClassifier\n",
        "rs_rfc = RandomizedSearchCV(RandomForestClassifier(),\n",
        "                           param_distributions=rfc_grid,\n",
        "                           cv=5,\n",
        "                           n_iter=10,\n",
        "                           verbose=True)\n",
        "\n",
        "# Fit random hyperparameter search model\n",
        "rs_rfc.fit(X_train_features, y_train);"
      ],
      "metadata": {
        "colab": {
          "base_uri": "https://localhost:8080/"
        },
        "id": "ak_O4WkpJrDa",
        "outputId": "3e1d46b4-ee13-455a-a357-bb83e91d136c"
      },
      "execution_count": null,
      "outputs": [
        {
          "output_type": "stream",
          "name": "stdout",
          "text": [
            "Fitting 5 folds for each of 10 candidates, totalling 50 fits\n"
          ]
        }
      ]
    },
    {
      "cell_type": "code",
      "source": [
        "# Save the model to save time\n",
        "pickle.dump(rs_rfc, open('model3.pkl', 'wb'))"
      ],
      "metadata": {
        "id": "5Zqt5otTzh1e"
      },
      "execution_count": null,
      "outputs": []
    },
    {
      "cell_type": "code",
      "source": [
        "# Load the model\n",
        "pickled_model3 = pickle.load(open('model3.pkl', 'rb'))"
      ],
      "metadata": {
        "id": "PUAqFQRoz9EQ"
      },
      "execution_count": null,
      "outputs": []
    },
    {
      "cell_type": "code",
      "source": [
        "# Find the best parameters\n",
        "pickled_model3.best_params_"
      ],
      "metadata": {
        "colab": {
          "base_uri": "https://localhost:8080/"
        },
        "id": "daOypwl2KDu6",
        "outputId": "372aa2b1-b452-4e74-e684-e7e20c7f7b22"
      },
      "execution_count": null,
      "outputs": [
        {
          "output_type": "execute_result",
          "data": {
            "text/plain": [
              "{'n_estimators': 310,\n",
              " 'min_samples_split': 12,\n",
              " 'min_samples_leaf': 5,\n",
              " 'max_depth': None}"
            ]
          },
          "metadata": {},
          "execution_count": 51
        }
      ]
    },
    {
      "cell_type": "code",
      "source": [
        "# Evaluate the randomized search random forest model\n",
        "pickled_model3.score(X_test_features, y_test)"
      ],
      "metadata": {
        "colab": {
          "base_uri": "https://localhost:8080/"
        },
        "id": "GtMYg9keKI5B",
        "outputId": "6542e941-f19b-4795-8ce5-453d6d4419fc"
      },
      "execution_count": null,
      "outputs": [
        {
          "output_type": "execute_result",
          "data": {
            "text/plain": [
              "0.9631922944616443"
            ]
          },
          "metadata": {},
          "execution_count": 52
        }
      ]
    },
    {
      "cell_type": "markdown",
      "source": [
        "### **7. Evaluating a classification model, beyond accuracy**\n",
        "*  ROC curve and AUC score\n",
        "*  Confusion matrix\n",
        "*  Classification report\n",
        "*  Precision\n",
        "*  Recall\n",
        "*  F1-score\n",
        "\n",
        "### Tuned Multinomial Naive Bayes"
      ],
      "metadata": {
        "id": "vVkXS9Yje0gW"
      }
    },
    {
      "cell_type": "code",
      "source": [
        "# Make preidctions on test data\n",
        "y_preds = pickled_model1.predict(X_test_features)"
      ],
      "metadata": {
        "id": "pvkk0Qkqfmdw"
      },
      "execution_count": null,
      "outputs": []
    },
    {
      "cell_type": "code",
      "source": [
        "y_preds"
      ],
      "metadata": {
        "colab": {
          "base_uri": "https://localhost:8080/"
        },
        "id": "RFgcWG6MgKFZ",
        "outputId": "bb309338-9002-4d6e-87d7-968dbfa82f21"
      },
      "execution_count": null,
      "outputs": [
        {
          "output_type": "execute_result",
          "data": {
            "text/plain": [
              "array([0, 0, 1, ..., 0, 0, 1])"
            ]
          },
          "metadata": {},
          "execution_count": 54
        }
      ]
    },
    {
      "cell_type": "code",
      "source": [
        "y_test"
      ],
      "metadata": {
        "colab": {
          "base_uri": "https://localhost:8080/"
        },
        "id": "UePbcgpugRlk",
        "outputId": "781e174b-38bc-4ad5-aae9-05f776a191a9"
      },
      "execution_count": null,
      "outputs": [
        {
          "output_type": "execute_result",
          "data": {
            "text/plain": [
              "8974    0\n",
              "8329    0\n",
              "1718    1\n",
              "4662    1\n",
              "39      1\n",
              "       ..\n",
              "9900    0\n",
              "5909    0\n",
              "9242    0\n",
              "9946    0\n",
              "1488    1\n",
              "Name: Label, Length: 2907, dtype: int64"
            ]
          },
          "metadata": {},
          "execution_count": 55
        }
      ]
    },
    {
      "cell_type": "markdown",
      "source": [
        "### 1. ROC Curve and AUC Scores"
      ],
      "metadata": {
        "id": "VsO1ZxIMgcTq"
      }
    },
    {
      "cell_type": "code",
      "source": [
        "# Plot ROC curve and calculate AUC metric on Multinomial Naive Bayes classifier\n",
        "plot_roc_curve(pickled_model1, X_test_features, y_test);"
      ],
      "metadata": {
        "colab": {
          "base_uri": "https://localhost:8080/",
          "height": 334
        },
        "id": "S_GSD8WOgbK2",
        "outputId": "32ac412c-5a37-4658-d20e-26c8d488882a"
      },
      "execution_count": null,
      "outputs": [
        {
          "output_type": "stream",
          "name": "stderr",
          "text": [
            "/usr/local/lib/python3.8/dist-packages/sklearn/utils/deprecation.py:87: FutureWarning: Function plot_roc_curve is deprecated; Function :func:`plot_roc_curve` is deprecated in 1.0 and will be removed in 1.2. Use one of the class methods: :meth:`sklearn.metric.RocCurveDisplay.from_predictions` or :meth:`sklearn.metric.RocCurveDisplay.from_estimator`.\n",
            "  warnings.warn(msg, category=FutureWarning)\n"
          ]
        },
        {
          "output_type": "display_data",
          "data": {
            "text/plain": [
              "<Figure size 432x288 with 1 Axes>"
            ],
            "image/png": "[encoded data removed]"
          },
          "metadata": {
            "needs_background": "light"
          }
        }
      ]
    },
    {
      "cell_type": "markdown",
      "source": [
        "As our model gets the perfect AUC score of 1.0."
      ],
      "metadata": {
        "id": "yRmm6TkVk5dK"
      }
    },
    {
      "cell_type": "markdown",
      "source": [
        "### Confusion matrix"
      ],
      "metadata": {
        "id": "1IkRdF-LhWoZ"
      }
    },
    {
      "cell_type": "code",
      "source": [
        "# Display confusion matrix\n",
        "print(confusion_matrix(y_test, y_preds))"
      ],
      "metadata": {
        "colab": {
          "base_uri": "https://localhost:8080/"
        },
        "id": "izalGOVJhJ2_",
        "outputId": "0515d0d1-7854-4a25-85fe-cfaccf1bc55d"
      },
      "execution_count": null,
      "outputs": [
        {
          "output_type": "stream",
          "name": "stdout",
          "text": [
            "[[1451   23]\n",
            " [  31 1402]]\n"
          ]
        }
      ]
    },
    {
      "cell_type": "markdown",
      "source": [
        "To make it more visual lets create a function that uses seaborn's heatmap()"
      ],
      "metadata": {
        "id": "sUd7L9kxlb67"
      }
    },
    {
      "cell_type": "code",
      "source": [
        "# Import Seaborn\n",
        "import seaborn as sns\n",
        "sns.set(font_scale=1.5) # Increase font size\n",
        "\n",
        "def plot_conf_mat(y_test, y_preds):\n",
        "    \"\"\"\n",
        "    Plots a confusion matrix using Seaborn's heatmap().\n",
        "    \"\"\"\n",
        "    fig, ax = plt.subplots(figsize=(3, 3))\n",
        "    ax = sns.heatmap(confusion_matrix(y_test, y_preds),\n",
        "                     annot=True, # Annotate the boxes\n",
        "                     cbar=False)\n",
        "    plt.xlabel(\"true label\")\n",
        "    plt.ylabel(\"predicted label\")\n",
        "\n",
        "plot_conf_mat(y_test, y_preds)"
      ],
      "metadata": {
        "colab": {
          "base_uri": "https://localhost:8080/",
          "height": 243
        },
        "id": "fUn6qJWShsNv",
        "outputId": "522b852a-96c6-4615-f1f2-343fa4ecd3e0"
      },
      "execution_count": null,
      "outputs": [
        {
          "output_type": "display_data",
          "data": {
            "text/plain": [
              "<Figure size 216x216 with 1 Axes>"
            ],
            "image/png": "[encoded data removed]"
          },
          "metadata": {}
        }
      ]
    },
    {
      "cell_type": "markdown",
      "source": [
        "### Classification report\n",
        "A classification report that give us information of the precision and recall of the model for each class."
      ],
      "metadata": {
        "id": "1mpg_xMciCpy"
      }
    },
    {
      "cell_type": "code",
      "source": [
        "# Show classification report\n",
        "print(classification_report(y_test, y_preds))"
      ],
      "metadata": {
        "colab": {
          "base_uri": "https://localhost:8080/"
        },
        "id": "07hPbxwJiBpz",
        "outputId": "c7423164-46cc-4cb8-ed0d-928bfa8a5c82"
      },
      "execution_count": null,
      "outputs": [
        {
          "output_type": "stream",
          "name": "stdout",
          "text": [
            "              precision    recall  f1-score   support\n",
            "\n",
            "           0       0.98      0.98      0.98      1474\n",
            "           1       0.98      0.98      0.98      1433\n",
            "\n",
            "    accuracy                           0.98      2907\n",
            "   macro avg       0.98      0.98      0.98      2907\n",
            "weighted avg       0.98      0.98      0.98      2907\n",
            "\n"
          ]
        }
      ]
    },
    {
      "cell_type": "markdown",
      "source": [
        "### **Building a Predictive System**"
      ],
      "metadata": {
        "id": "zeZuwwx8mhrX"
      }
    },
    {
      "cell_type": "code",
      "source": [
        "input_mail = [\"Subject: all graphics software available , cheap oem versions . good morning , we we offer latest. I promise i wont take your help for granted and will fulfil my promise. You have been wonderful and a blessing at all times\"]\n",
        "\n",
        "# convert text to feature vectors\n",
        "input_data_features = feature_extraction.transform(input_mail)\n",
        "\n",
        "# making prediction\n",
        "\n",
        "prediction = pickled_model1.predict(input_data_features)\n",
        "print(prediction)\n",
        "\n",
        "\n",
        "if (prediction[0]==1):\n",
        "  print('Not Spam,')\n",
        "\n",
        "else:\n",
        "  print('Spam')"
      ],
      "metadata": {
        "colab": {
          "base_uri": "https://localhost:8080/"
        },
        "id": "jW-LOOBel4mT",
        "outputId": "7bbf6d56-37e6-4bc5-da94-facb102eeb9d"
      },
      "execution_count": null,
      "outputs": [
        {
          "output_type": "stream",
          "name": "stdout",
          "text": [
            "[1]\n",
            "Not Spam,\n"
          ]
        }
      ]
    }
  ]
}